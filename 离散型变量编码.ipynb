{
 "cells": [
  {
   "cell_type": "markdown",
   "metadata": {},
   "source": [
    "在风控领域有两种变量编码方式，对实际业务中的分类型变量进行映射得到数值型变量：\n",
    "\n",
    "one-hot编码\n",
    "\n",
    "WOE编码（Weight of Evidence）"
   ]
  },
  {
   "cell_type": "markdown",
   "metadata": {
    "jupyter": {
     "outputs_hidden": true
    }
   },
   "source": [
    "**one-hot编码**"
   ]
  },
  {
   "cell_type": "code",
   "execution_count": 1,
   "metadata": {
    "collapsed": true,
    "jupyter": {
     "outputs_hidden": true
    }
   },
   "outputs": [
    {
     "name": "stderr",
     "output_type": "stream",
     "text": [
      "C:\\ProgramData\\Anaconda3\\lib\\site-packages\\sklearn\\preprocessing\\_encoders.py:395: DeprecationWarning: `np.int` is a deprecated alias for the builtin `int`. To silence this warning, use `int` by itself. Doing this will not modify any behavior and is safe. When replacing `np.int`, you may wish to use e.g. `np.int64` or `np.int32` to specify the precision. If you wish to review your current use, check the release note link for additional information.\n",
      "Deprecated in NumPy 1.20; for more details and guidance: https://numpy.org/devdocs/release/1.20.0-notes.html#deprecations\n",
      "  check_array(X, dtype=np.int)\n",
      "C:\\ProgramData\\Anaconda3\\lib\\site-packages\\sklearn\\preprocessing\\_encoders.py:415: FutureWarning: The handling of integer data will change in version 0.22. Currently, the categories are determined based on the range [0, max(values)], while in the future they will be determined based on the unique values.\n",
      "If you want the future behaviour and silence this warning, you can specify \"categories='auto'\".\n",
      "In case you used a LabelEncoder before this OneHotEncoder to convert the categories to integers, then you can now use the OneHotEncoder directly.\n",
      "  warnings.warn(msg, FutureWarning)\n",
      "C:\\ProgramData\\Anaconda3\\lib\\site-packages\\sklearn\\preprocessing\\_encoders.py:550: DeprecationWarning: `np.int` is a deprecated alias for the builtin `int`. To silence this warning, use `int` by itself. Doing this will not modify any behavior and is safe. When replacing `np.int`, you may wish to use e.g. `np.int64` or `np.int32` to specify the precision. If you wish to review your current use, check the release note link for additional information.\n",
      "Deprecated in NumPy 1.20; for more details and guidance: https://numpy.org/devdocs/release/1.20.0-notes.html#deprecations\n",
      "  X = check_array(X, dtype=np.int)\n",
      "C:\\ProgramData\\Anaconda3\\lib\\site-packages\\sklearn\\preprocessing\\_encoders.py:635: DeprecationWarning: `np.int` is a deprecated alias for the builtin `int`. To silence this warning, use `int` by itself. Doing this will not modify any behavior and is safe. When replacing `np.int`, you may wish to use e.g. `np.int64` or `np.int32` to specify the precision. If you wish to review your current use, check the release note link for additional information.\n",
      "Deprecated in NumPy 1.20; for more details and guidance: https://numpy.org/devdocs/release/1.20.0-notes.html#deprecations\n",
      "  X = check_array(X, dtype=np.int)\n"
     ]
    },
    {
     "data": {
      "text/plain": [
       "array([[1., 0., 1., 0., 0., 0., 0., 0., 1.],\n",
       "       [0., 1., 0., 1., 0., 1., 0., 0., 0.],\n",
       "       [1., 0., 0., 0., 1., 0., 1., 0., 0.],\n",
       "       [0., 1., 1., 0., 0., 0., 0., 1., 0.]])"
      ]
     },
     "execution_count": 1,
     "metadata": {},
     "output_type": "execute_result"
    }
   ],
   "source": [
    "from sklearn.preprocessing import OneHotEncoder\n",
    "enc = OneHotEncoder()\n",
    "enc.fit([[0, 0, 3], [1, 1, 0], [0, 2, 1], [1, 0, 2]])\n",
    "enc.transform([[0, 0, 3], [1, 1, 0], [0, 2, 1], [1, 0, 2]]).toarray()"
   ]
  },
  {
   "cell_type": "markdown",
   "metadata": {},
   "source": [
    "**字符型变量自动化WOE编码**"
   ]
  },
  {
   "cell_type": "markdown",
   "metadata": {},
   "source": [
    "WOE表示的含义即是\"当前分组中响应客户占所有响应客户的比例\"和\"当前分组中没有响应的客户占所有没有响应客户的比例\"的差异。"
   ]
  },
  {
   "cell_type": "markdown",
   "metadata": {},
   "source": [
    "在机器学习的二分类问题中，IV值（Information Value）主要用来对输入变量进行编码和预测能力评估。特征变量IV值的大小即表示该变量预测能力的强弱。IV 值的取值范围是[0, 正无穷)，如果当前分组中只包含响应客户或者未响应客户时，IV = 正无穷。量化指标含义如下：\n",
    "\n",
    "小于0.02 : useless for prediction\n",
    "\n",
    "0.02 to 0.1 : Weak predictor\n",
    "\n",
    "0.1 to 0.3 : Medium predictor\n",
    "\n",
    "0.3 to 0.5 : Strong predictor \n",
    "\n",
    "大于0.5 ：Suspicious or too good to be true"
   ]
  },
  {
   "cell_type": "code",
   "execution_count": 1,
   "metadata": {},
   "outputs": [],
   "source": [
    "import math"
   ]
  },
  {
   "cell_type": "code",
   "execution_count": 2,
   "metadata": {},
   "outputs": [],
   "source": [
    "class charWoe(object):\n",
    "    def __init__ (self, datasets, dep, weight, vars):\n",
    "        self.datasets = datasets\n",
    "        self.devf = datasets.get(\"dev\", \"\") #训练集\n",
    "        self.valf = datasets.get(\"val\", \"\") #测试集\n",
    "        self.offf = datasets.get(\"off\", \"\") #跨时间验证集\n",
    "        self.dep = dep #标签\n",
    "        self.weight = weight #样本权重\n",
    "        self.vars = vars #参与建模的特征名\n",
    "        self.nrows, self.ncols = self.devf.shape #样本数，特征数\n",
    " "
   ]
  },
  {
   "cell_type": "code",
   "execution_count": 3,
   "metadata": {},
   "outputs": [],
   "source": [
    "    def char_woe(self):\n",
    "        #得到每一类样本的个数\n",
    "        dic = dict(self.devf.groupby([self.dep]).size())\n",
    "        good  = dic.get(0, 0) + 1e-10 #加入平滑想使不为0\n",
    "        bad  = dic.get(1, 0) + 1e-10\n",
    "        #对每个特征进行遍历\n",
    "        for cols in self.vars:\n",
    "            #得到每一个特征值对应的样本数\n",
    "            data = dict(self.devf[[col,self.dep]].groupby([col,self.dep]).size())\n",
    "            \n",
    "            '''当特征值取值超过100个，跳过当前取值\n",
    "            因为取值过多时，WOE分箱的效率较低，建议对特征进行截断。 \n",
    "            出现频率过低的特征值统一赋值，放入同一箱内。\n",
    "            '''\n",
    "            \n",
    "            if len(data) > 100:\n",
    "                print(col, \"取值过多\")\n",
    "                continue\n",
    "            print(col, len(data)) #打印个数\n",
    "            dic = dict()\n",
    "            for (k,v) in data.items():\n",
    "                value, dp = k #特征名，特征取值\n",
    "                dic.setdefault(value,{}) #如果找不到key 设置一个空字典\n",
    "                #字典中嵌套字典\n",
    "                dic[value][int(dp)] = v #v为样本数\n",
    "            for (k,v) in dic.items():\n",
    "                dic[k] = {str(int(k1)): v1 for (k1,v1) in v.items()}\n",
    "                dic[k][\"cnt\"] = sum(v.values())\n",
    "                bad_rate = round(dic[k].get(\"1\", 0)/ dic[k][\"cnt\"], 5)\n",
    "                dic[k][\"bad_rate\"] = bad_rate\n",
    "            #利用定义的函数进行合并\n",
    "            dic = self.combine_box_char(dic)\n",
    "            #对每个特征计算WOE值和IV值\n",
    "            for (k,v) in dic.items():\n",
    "                a = v.get(\"0\", 1) / good + 1e-10  \n",
    "                b = v.get(\"1\", 1) / bad + 1e-10\n",
    "                dic[k][\"GOOD\"] = v.get(\"0\", 0)\n",
    "                dic[k][\"BAD\"] = v.get(\"1\", 0)\n",
    "                dic[k][\"woe\"] = round(math.log(a / b), 5)\n",
    "                \n",
    "            '''\n",
    "            按照分箱后的点进行分割， \n",
    "            计算得到每一个特征值的WOE值， \n",
    "            将原始特征名加上'_woe'后缀，并赋予WOE值。\n",
    "            '''\n",
    "            for (klis,v) in dic.items():\n",
    "                # 训练集进行替换\n",
    "                for k in kils.split(\",\"):\n",
    "                    self.devf.loc[self.devf[col]==k,\n",
    "                                                    \"%s_woe\" % col] = v[\"woe\"]\n",
    "                    #测试集进行替换\n",
    "                    if not isinstance(self.valf, str):\n",
    "                        self.valf.loc[self.valf[col]==k,\n",
    "                                                    \"%s_woe\" % col] = v[\"woe\"]\n",
    "                    #对跨时间验证集进行替换\n",
    "                    if not isinstance(self.offf, str):\n",
    "                        self.offf.loc[self.offf[col]==k,\n",
    "                                                    \"%s_woe\" % col] = v[\"woe\"]\n",
    "        return {\"dev\": self.devf, \"val\": self.valf, \"off\": self.offf} #返回新字典，包括三个数据集\n",
    "  "
   ]
  },
  {
   "cell_type": "markdown",
   "metadata": {},
   "source": [
    "基于负样本占比差异最大化的分箱原则\n",
    "\n",
    "实施两种分箱策略。 \n",
    "\n",
    "1.不同箱之间负样本占比差异最大化。 \n",
    "\n",
    "2.每一箱的样本量不能过少。(不小于整体样本的5%)\n",
    "        \n",
    "箱的总数在5箱之内（不超过10箱)。通过控制划分后的总箱数，来迭代进行箱的合并。\n"
   ]
  },
  {
   "cell_type": "code",
   "execution_count": 15,
   "metadata": {},
   "outputs": [
    {
     "ename": "IndentationError",
     "evalue": "unexpected indent (<ipython-input-15-47b77aa1bd28>, line 41)",
     "output_type": "error",
     "traceback": [
      "\u001b[1;36m  File \u001b[1;32m\"<ipython-input-15-47b77aa1bd28>\"\u001b[1;36m, line \u001b[1;32m41\u001b[0m\n\u001b[1;33m    min_cnt = min([v[\"cnt\"] for v in dic.values()])\u001b[0m\n\u001b[1;37m    ^\u001b[0m\n\u001b[1;31mIndentationError\u001b[0m\u001b[1;31m:\u001b[0m unexpected indent\n"
     ]
    }
   ],
   "source": [
    "    '''\n",
    "    策略一：不同箱之间负样本占比差异最大化\n",
    "    '''\n",
    "    \n",
    "    def combine_box_char(self, dic): \n",
    "        while len(dic) >= 10:\n",
    "            #k:特征值，v[\"bad_rate\"]：特征值对应的负样本占比\n",
    "            bad_rate_dic = {k: v[\"bad_rate\"] \n",
    "                                             for (k, v) in dic.items()} \n",
    "            #按样本占比排序，因为离散型变量，所以是无序的。可以直接写成递增形式\n",
    "            bad_rate_sorted = sorted(bad_rate_dic.items(), key=lambda x: x[1])\n",
    "            #计算每两箱之间的负样本占比差值。将差值最小的两箱进行合并\n",
    "            bad_rate = [bad_rate_sorted[i+1][1] - bad_rate_sorted[i][1]\n",
    "                        for i in range(len(bad_rate_sorted)-1)]\n",
    "            min_rate_index = bad_rate.index(min(bad_rate))  \n",
    "            #k1 k2 分别为差值最小的两箱的key\n",
    "            k1 = bad_rate_sorted[min_rate_index][0]\n",
    "            k2 = bad_rate_sorted[min_rate_index+1][0]\n",
    "            #得到重新划分后的字典，箱的个数比之前少1个\n",
    "            dic[\"%s,%s\" % (k1, k2)] = dict()\n",
    "            dic[\"%s,%s\" % (k1, k2)][\"0\"] = dic[k1].get(\"0\",0) + dic[k2].get(\"0\",0)\n",
    "            dic[\"%s,%s\" % (k1, k2)][\"1\"] = dic[k1].get(\"1\",0) + dic[k2].get(\"1\",0)\n",
    "            dic[\"%s,%s\" % (k1, k2)][\"cnt\"] = dic[k1].get(\"cnt\",0) + dic[k2].get(\"cnt\",0)\n",
    "            dic[\"%s,%s\" % (k1, k2)][\"bad_rate\"] = round(dic[\"%s,%s\" % (k1, k2)] / dic[\"%s,%s\" % (k1, k2)][\"cnt\"],5)\n",
    "            \n",
    "            #删除旧字典\n",
    "            del dic[k1], dic[k2]\n",
    "       \n",
    "        \n",
    "            \n",
    "            \n",
    "            \n",
    "            \n",
    "#结束循环后，箱的个数应该少于10\n",
    "\n",
    "'''\n",
    "策略二：每一箱的样本量不能过少\n",
    "将样本数量少的箱合并至其他箱中，以保证每一箱的样本数量不要太少。\n",
    "'''\n",
    "    #记录当前样本最少的箱的个数\n",
    "        min_cnt = min([v[\"cnt\"] for v in dic.values()])\n",
    "        while len(dic) > 5 and min_cnt < self.nrows * 0.05:\n",
    "            \n",
    "            min_key = [k for (k,v) in dic.items() \n",
    "                                            if v[\"cnt\"] == min_cnt][0]\n",
    "            bad_rate_dic = {k: v[\"bad_rate\"]   #每两箱之间的负样本占比差值             \n",
    "                                    for (k,v) in dic.items()}\n",
    "            bad_rate_sorted = sorted(bad_rate_dic.items(), key=lambda x: x[1])\n",
    "            keys = [k[0] for k in bad_rate_sorted]\n",
    "            min_index = keys.index(min_key)\n",
    "            \n",
    "\n",
    "            #同样想保持合并后箱之间的负样本占比差异最大化。 \n",
    "            #由于箱的位置不同，按照三种不同情况进行分类讨论。\n",
    "            \n",
    "            \n",
    "            if min_index == 0:\n",
    "                k1, k2 = keys[:2]\n",
    "            elif min_index == len(dic) - 1:\n",
    "                k1, k2 = keys[-2:]\n",
    "            else:\n",
    "                bef_bad_rate = dic[min_key][\"bad_rate\"] - dic[keys[min_index - 1]][\"bad_rate\"]\n",
    "                aft_bad_rate = dic[keys[min_index - 1]][\"bad_rate\"] - dic[min_key][\"bad_rate\"]\n",
    "                if bef_bad_rate < aft_bad_rate:\n",
    "                    k1,k2 = keys[min_index - 1], min_key\n",
    "                else:\n",
    "                    k1,k2 = min_key,keys[min_index + 1]\n",
    "                \n",
    "            \n",
    "        #得到重新划分后的字典，箱的个数比之前少一。  \n",
    "            dic[\"%s,%s\" % (k1, k2)] = dict()\n",
    "            dic[\"%s,%s\" % (k1, k2)][\"0\"] = dic[k1].get(\"0\",0) + dic[k2].get(\"0\",0)\n",
    "            dic[\"%s,%s\" % (k1, k2)][\"1\"] = dic[k1].get(\"1\",0) + dic[k2].get(\"1\",0)\n",
    "            dic[\"%s,%s\" % (k1, k2)][\"cnt\"] = dic[k1].get(\"cnt\",0) + dic[k2].get(\"cnt\",0)\n",
    "            dic[\"%s,%s\" % (k1, k2)][\"bad_rate\"] = round(dic[\"%s,%s\" % (k1, k2)] / dic[\"%s,%s\" % (k1, k2)][\"cnt\"],5)\n",
    "            \n",
    "        #删除旧字典\n",
    "            del dic[k1], dic[k2]\n",
    "            min_cnt = min([v[\"cnt\"] for v in dic.values()])\n",
    "        return dic\n",
    "                "
   ]
  }
 ],
 "metadata": {
  "kernelspec": {
   "display_name": "Python 3",
   "language": "python",
   "name": "python3"
  },
  "language_info": {
   "codemirror_mode": {
    "name": "ipython",
    "version": 3
   },
   "file_extension": ".py",
   "mimetype": "text/x-python",
   "name": "python",
   "nbconvert_exporter": "python",
   "pygments_lexer": "ipython3",
   "version": "3.7.3"
  }
 },
 "nbformat": 4,
 "nbformat_minor": 4
}
