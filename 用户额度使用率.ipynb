{
 "cells": [
  {
   "cell_type": "markdown",
   "metadata": {},
   "source": [
    "无数据集，仅展示特征衍生\n",
    "\n",
    "通过一些跨时间维度的计算逻辑对特征进行时间维度的比较，衍生出具有业务含义的特定字段。"
   ]
  },
  {
   "cell_type": "markdown",
   "metadata": {},
   "source": [
    "**建模背景**：计算每个用户的额度使用率，记为特征ft（用户id：customer_id），按时间轴以月份为切片展开。申请前30天内的额度使用率为ft1...申请前330~360天为ft12"
   ]
  },
  {
   "cell_type": "code",
   "execution_count": 1,
   "metadata": {},
   "outputs": [],
   "source": [
    "# 计算最近mth个月特征feature大于0的月份数\n",
    "def Num(feature,mth):  \n",
    "    df=data.loc[:,feature +'1': feature +str(mth)]  \n",
    "    auto_value=np.where(df>0,1,0).sum(axis=1)  \n",
    "    return feature +'_num'+str(mth),auto_value "
   ]
  },
  {
   "cell_type": "markdown",
   "metadata": {},
   "source": [
    "mth代替月份；feature代替特征：支持月份和特征的灵活指点，方便对高维特征批量处理。"
   ]
  },
  {
   "cell_type": "code",
   "execution_count": 2,
   "metadata": {},
   "outputs": [],
   "source": [
    "# 计算最近mth个月feature均值\n",
    "def Avg(feature,mth):\n",
    "    df = data.loc[:,feature+'1': feature +str(mth)]\n",
    "    auto_value = np.nanmean(df , axis=1)\n",
    "    return feature +'_avg'+str(mth),auto_value"
   ]
  },
  {
   "cell_type": "code",
   "execution_count": 3,
   "metadata": {},
   "outputs": [],
   "source": [
    "# 计算最近mth个月，最近一次feature>0到现在的月份数\n",
    "def Msg(feature,mth):\n",
    "    df = data.loc[:,feature+'1':feature +str(mth)]\n",
    "    df_value = np.where(df>0,1,0)\n",
    "    auto_value = []\n",
    "    for i in range(len(df_value)):\n",
    "        row_value = df_value[i,:]\n",
    "        if row_value.max()<0:\n",
    "            indexs = '0'\n",
    "            auto_value.append(indexs)\n",
    "        else:\n",
    "            indexs = 1\n",
    "            for j in row_value:\n",
    "                if j>0:\n",
    "                    break\n",
    "                indexs+=1\n",
    "            auto_value.append(indexs)\n",
    "    return feature +'_msg'+str(mth),auto_value           "
   ]
  },
  {
   "cell_type": "code",
   "execution_count": 4,
   "metadata": {},
   "outputs": [],
   "source": [
    "# 当月feature/最近mth个月feature的均值\n",
    "def Cav(feature,mth):\n",
    "    df = data.loc[:,feature+'1':inv+str(mth)]\n",
    "    auto_value = df[feature +'1']/np.nanmean(df , axis=1)\n",
    "    return feature +'_cav'+str(mth),auto_value "
   ]
  },
  {
   "cell_type": "code",
   "execution_count": 5,
   "metadata": {},
   "outputs": [],
   "source": [
    "# 计算最近mth个月，每两个月间feature增长量的最大值\n",
    "def Mai(feature,mth):\n",
    "    arr = np.arry(data.loc[:,feature+'1': feature + str(mth)])\n",
    "    auto_value = []\n",
    "    if i in range(len(arr)):\n",
    "        df_value = arr[i,:]  \n",
    "        value_lst = []\n",
    "        for k in range(len(df_value)-1):  \n",
    "            minus = df_value[k] - df_value[k+1]  \n",
    "            value_lst.append(minus)  \n",
    "        auto_value.append(np.nanmax(value_lst))       \n",
    "    return feature +'_mai'+str(mth),auto_value "
   ]
  },
  {
   "cell_type": "code",
   "execution_count": 6,
   "metadata": {},
   "outputs": [],
   "source": [
    "# 计算最近mth个月，所有月份feature的极差\n",
    "def Ran(feature,mth):\n",
    "    df = data.loc[:,feature+'1': feature + str(mth)]\n",
    "    auto_value = np.nanmax(df,axis=1) - np.nanmin(df,axis=1)\n",
    "    return feature +'_ran'+str(mth),auto_value"
   ]
  }
 ],
 "metadata": {
  "kernelspec": {
   "display_name": "Python 3",
   "language": "python",
   "name": "python3"
  },
  "language_info": {
   "codemirror_mode": {
    "name": "ipython",
    "version": 3
   },
   "file_extension": ".py",
   "mimetype": "text/x-python",
   "name": "python",
   "nbconvert_exporter": "python",
   "pygments_lexer": "ipython3",
   "version": "3.7.3"
  }
 },
 "nbformat": 4,
 "nbformat_minor": 4
}
