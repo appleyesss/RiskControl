{
 "cells": [
  {
   "cell_type": "code",
   "execution_count": 1,
   "metadata": {},
   "outputs": [
    {
     "name": "stderr",
     "output_type": "stream",
     "text": [
      "C:\\Users\\Dell\\AppData\\Roaming\\Python\\Python37\\site-packages\\pandas\\compat\\_optional.py:138: UserWarning: Pandas requires version '2.7.0' or newer of 'numexpr' (version '2.6.9' currently installed).\n",
      "  warnings.warn(msg, UserWarning)\n"
     ]
    }
   ],
   "source": [
    "import pandas as pd\n",
    "import numpy as np\n",
    "import os\n",
    "\n",
    "os.environ[\"PATH\"] += os.pathsep + 'C:/Program Files (x86)/Graphviz2.38/bin/'"
   ]
  },
  {
   "cell_type": "code",
   "execution_count": 2,
   "metadata": {},
   "outputs": [
    {
     "name": "stdout",
     "output_type": "stream",
     "text": [
      "<class 'pandas.core.frame.DataFrame'>\n",
      "RangeIndex: 16383 entries, 0 to 16382\n",
      "Data columns (total 19 columns):\n",
      " #   Column                 Non-Null Count  Dtype         \n",
      "---  ------                 --------------  -----         \n",
      " 0   uid                    16383 non-null  object        \n",
      " 1   oil_actv_dt            16383 non-null  datetime64[ns]\n",
      " 2   create_dt              16383 non-null  datetime64[ns]\n",
      " 3   total_oil_cnt          16383 non-null  int64         \n",
      " 4   pay_amount_total       16383 non-null  float64       \n",
      " 5   class_new              16383 non-null  object        \n",
      " 6   bad_ind                16383 non-null  int64         \n",
      " 7   oil_amount             16383 non-null  float64       \n",
      " 8   discount_amount        16383 non-null  int64         \n",
      " 9   sale_amount            16383 non-null  int64         \n",
      " 10  amount                 16383 non-null  int64         \n",
      " 11  pay_amount             16383 non-null  int64         \n",
      " 12  coupon_amount          16383 non-null  int64         \n",
      " 13  payment_coupon_amount  16383 non-null  int64         \n",
      " 14  channel_code           16383 non-null  int64         \n",
      " 15  oil_code               16383 non-null  int64         \n",
      " 16  scene                  16383 non-null  int64         \n",
      " 17  source_app             16383 non-null  int64         \n",
      " 18  call_source            16383 non-null  int64         \n",
      "dtypes: datetime64[ns](2), float64(2), int64(13), object(2)\n",
      "memory usage: 2.4+ MB\n"
     ]
    }
   ],
   "source": [
    "data = pd.read_excel('./data/data_for_tree.xls')\n",
    "data.info()"
   ]
  },
  {
   "cell_type": "code",
   "execution_count": 3,
   "metadata": {},
   "outputs": [],
   "source": [
    "org_lst = ['uid','create_dt','oil_actv_dt','class_new','bad_ind']\n",
    "agg_lst = ['oil_amount','discount_amount','sale_amount','amount','pay_amount','coupon_amount','payment_coupon_amount']\n",
    "dstc_lst = ['channel_code','oil_code','scene','source_app','call_source']"
   ]
  },
  {
   "cell_type": "code",
   "execution_count": 5,
   "metadata": {},
   "outputs": [],
   "source": [
    "df = data[org_lst].copy()\n",
    "df[agg_lst] = data[agg_lst].copy()\n",
    "df[dstc_lst] = data[dstc_lst].copy()"
   ]
  },
  {
   "cell_type": "code",
   "execution_count": 6,
   "metadata": {},
   "outputs": [],
   "source": [
    "base = df[org_lst].copy()\n",
    "base = base.drop_duplicates(['uid'],keep = 'first')"
   ]
  },
  {
   "cell_type": "code",
   "execution_count": 6,
   "metadata": {},
   "outputs": [],
   "source": [
    "gn = pd.DataFrame()  \n",
    "for i in agg_lst:  \n",
    "    #计算个数  \n",
    "    tp = pd.DataFrame(df.groupby('uid').apply(\n",
    "                                       lambda df:len(df[i])).reset_index())  \n",
    "    tp.columns = ['uid',i + '_cnt']  \n",
    "    if gn.empty == True:\n",
    "        gn = tp  \n",
    "    else:  \n",
    "        gn = pd.merge(gn,tp,on = 'uid',how = 'left')  \n",
    "    #求历史特征值大于零的个数  \n",
    "    tp = pd.DataFrame(df.groupby('uid').apply(\n",
    "                          lambda df:np.where(df[i]>0,1,0).sum()).reset_index())  \n",
    "    tp.columns = ['uid',i + '_num']  \n",
    "    if gn.empty == True:  \n",
    "        gn = tp  \n",
    "    else:  \n",
    "        gn = pd.merge(gn,tp,on = 'uid',how = 'left')  \n",
    "    #对历史数据求和  \n",
    "    tp = pd.DataFrame(df.groupby('uid').apply(\n",
    "                                  lambda df:np.nansum(df[i])).reset_index())  \n",
    "    tp.columns = ['uid',i + '_tot']  \n",
    "    if gn.empty == True:  \n",
    "        gn = tp  \n",
    "    else:  \n",
    "        gn = pd.merge(gn,tp,on = 'uid',how = 'left')  \n",
    "    #对历史数据求均值  \n",
    "    tp = pd.DataFrame(df.groupby('uid').apply(\n",
    "                                    lambda df:np.nanmean(df[i])).reset_index())  \n",
    "    tp.columns = ['uid',i + '_avg']  \n",
    "    if gn.empty == True:  \n",
    "        gn = tp  \n",
    "    else:  \n",
    "        gn = pd.merge(gn,tp,on = 'uid',how = 'left')  \n",
    "    #对历史数据求最大值  \n",
    "    tp = pd.DataFrame(df.groupby('uid').apply(\n",
    "                                     lambda df:np.nanmax(df[i])).reset_index())  \n",
    "    tp.columns = ['uid',i + '_max']  \n",
    "    if gn.empty == True:  \n",
    "        gn = tp  \n",
    "    else:  \n",
    "        gn = pd.merge(gn,tp,on = 'uid',how = 'left')  \n",
    "    #对历史数据求最小值  \n",
    "    tp = pd.DataFrame(df.groupby('uid').apply(\n",
    "                                    lambda df:np.nanmin(df[i])).reset_index())  \n",
    "    tp.columns = ['uid',i + '_min']  \n",
    "    if gn.empty == True:  \n",
    "        gn = tp  \n",
    "    else:  \n",
    "        gn = pd.merge(gn,tp,on = 'uid',how = 'left')  \n",
    "    #对历史数据求方差  \n",
    "    tp = pd.DataFrame(df.groupby('uid').apply(\n",
    "                                     lambda df:np.nanvar(df[i])).reset_index())  \n",
    "    tp.columns = ['uid',i + '_var']  \n",
    "    if gn.empty == True:  \n",
    "        gn = tp  \n",
    "    else:  \n",
    "        gn = pd.merge(gn,tp,on = 'uid',how = 'left')  \n",
    "    #对历史数据求极差  \n",
    "    tp = pd.DataFrame(df.groupby('uid').apply(\n",
    "                lambda df:np.nanmax(df[i])-np.nanmin(df[i]) ).reset_index())  \n",
    "    tp.columns = ['uid',i + '_ran']  \n",
    "    if gn.empty == True:  \n",
    "        gn = tp  \n",
    "    else:  \n",
    "        gn = pd.merge(gn,tp,on = 'uid',how = 'left')  \n",
    "    #对历史数据求变异系数,为防止除数为0，利用0.01进行平滑  \n",
    "    tp = pd.DataFrame(df.groupby('uid').apply(lambda df:np.nanmean(df[i])/(np.nanvar(df[i])+0.01))).reset_index()  \n",
    "    tp.columns = ['uid',i + '_cva']  \n",
    "    if gn.empty == True:  \n",
    "        gn = tp  \n",
    "    else:  \n",
    "        gn = pd.merge(gn,tp,on = 'uid',how = 'left')"
   ]
  },
  {
   "cell_type": "code",
   "execution_count": 7,
   "metadata": {},
   "outputs": [
    {
     "name": "stderr",
     "output_type": "stream",
     "text": [
      "C:\\ProgramData\\Anaconda3\\lib\\site-packages\\ipykernel_launcher.py:4: UserWarning: Pandas doesn't allow columns to be created via a new attribute name - see https://pandas.pydata.org/pandas-docs/stable/indexing.html#attribute-access\n",
      "  after removing the cwd from sys.path.\n",
      "C:\\ProgramData\\Anaconda3\\lib\\site-packages\\ipykernel_launcher.py:8: FutureWarning: Passing 'suffixes' which cause duplicate columns {'0_x'} in the result is deprecated and will raise a MergeError in a future version.\n",
      "  \n"
     ]
    }
   ],
   "source": [
    "gc = pd.DataFrame()\n",
    "for i in dstc_lst:\n",
    "    tp = pd.DataFrame(df.groupby('uid').apply(lambda df:len(set(df[i]))).reset_index())\n",
    "    tp.colunms = ['uid',i + '_dstc']\n",
    "    if gc.empty == True:\n",
    "        gc = tp\n",
    "    else:\n",
    "        gc = pd.merge(gc,tp,on = 'uid',how = 'left')"
   ]
  },
  {
   "cell_type": "code",
   "execution_count": 8,
   "metadata": {},
   "outputs": [],
   "source": [
    "fn = base.merge(gn,on='uid').merge(gc,on='uid')  "
   ]
  },
  {
   "cell_type": "code",
   "execution_count": 9,
   "metadata": {},
   "outputs": [
    {
     "data": {
      "text/plain": [
       "(569, 78)"
      ]
     },
     "execution_count": 9,
     "metadata": {},
     "output_type": "execute_result"
    }
   ],
   "source": [
    "fn = pd.merge(fn,gc,on= 'uid')   \n",
    "fn = fn.fillna(0)\n",
    "fn.shape"
   ]
  },
  {
   "cell_type": "code",
   "execution_count": 10,
   "metadata": {},
   "outputs": [],
   "source": [
    "x = fn.drop(['uid','create_dt','oil_actv_dt','class_new','bad_ind'],axis=1) #删掉列\n",
    "y = fn.bad_ind.copy()"
   ]
  },
  {
   "cell_type": "code",
   "execution_count": 17,
   "metadata": {},
   "outputs": [],
   "source": [
    "from sklearn import tree\n",
    "dtree = tree.DecisionTreeRegressor(max_depth = 2,min_samples_leaf = 100,min_samples_split = 100)\n",
    "dtree = dtree.fit(x,y)"
   ]
  },
  {
   "cell_type": "code",
   "execution_count": 12,
   "metadata": {},
   "outputs": [
    {
     "name": "stderr",
     "output_type": "stream",
     "text": [
      "C:\\ProgramData\\Anaconda3\\lib\\site-packages\\sklearn\\externals\\six.py:31: DeprecationWarning: The module is deprecated in version 0.21 and will be removed in version 0.23 since we've dropped support for Python 2.7. Please rely on the official version of six (https://pypi.org/project/six/).\n",
      "  \"(https://pypi.org/project/six/).\", DeprecationWarning)\n"
     ]
    }
   ],
   "source": [
    "import pydotplus   \n",
    "from IPython.display import Image  \n",
    "from sklearn.externals.six import StringIO"
   ]
  },
  {
   "cell_type": "code",
   "execution_count": 13,
   "metadata": {},
   "outputs": [],
   "source": [
    "dot_data = StringIO()  \n",
    "tree.export_graphviz(dtree, out_file=dot_data,  \n",
    "                         feature_names=x.columns,  \n",
    "                         class_names=['bad_ind'],  \n",
    "                         filled=True, rounded=True,  \n",
    "                         special_characters=True)  "
   ]
  },
  {
   "cell_type": "code",
   "execution_count": 18,
   "metadata": {},
   "outputs": [
    {
     "data": {
      "image/png": "[encoded data removed]",
      "text/plain": [
       "<IPython.core.display.Image object>"
      ]
     },
     "execution_count": 18,
     "metadata": {},
     "output_type": "execute_result"
    }
   ],
   "source": [
    "graph = pydotplus.graph_from_dot_data(dot_data.getvalue())   \n",
    "Image(graph.create_png())  \n",
    "#value = 逾期率"
   ]
  },
  {
   "cell_type": "markdown",
   "metadata": {},
   "source": [
    "数据集不够，决策树节点分割问题"
   ]
  }
 ],
 "metadata": {
  "kernelspec": {
   "display_name": "Python 3",
   "language": "python",
   "name": "python3"
  },
  "language_info": {
   "codemirror_mode": {
    "name": "ipython",
    "version": 3
   },
   "file_extension": ".py",
   "mimetype": "text/x-python",
   "name": "python",
   "nbconvert_exporter": "python",
   "pygments_lexer": "ipython3",
   "version": "3.7.3"
  }
 },
 "nbformat": 4,
 "nbformat_minor": 4
}
