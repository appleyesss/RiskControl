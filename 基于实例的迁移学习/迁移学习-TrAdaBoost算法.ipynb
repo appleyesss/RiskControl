{
 "cells": [
  {
   "cell_type": "markdown",
   "metadata": {},
   "source": [
    "# 基于实例的迁移"
   ]
  },
  {
   "cell_type": "markdown",
   "metadata": {},
   "source": [
    "基于实例的迁移学习研究的是，如何从源领域中挑选出，对目标领域的训练有用的实例，比如对源领域的有标记数据实例进行有效的权重分配，让源域实例分布接近目标域的实例分布，从而在目标领域中建立一个分类精度较高的、可靠地学习模型。\n",
    "因为，迁移学习中源领域与目标领域的数据分布是不一致，所以源领域中所有有标记的数据实例不一定都对目标领域有用。"
   ]
  },
  {
   "cell_type": "markdown",
   "metadata": {},
   "source": [
    "![](基于实例的迁移.png)"
   ]
  },
  {
   "cell_type": "markdown",
   "metadata": {},
   "source": [
    "TrAdaBoost算法就是典型的基于实例的迁移。在一个包含源域训练数据和目标域样本的训练集中，TrAdaBoost算法会对训练样本进行权重调整。对于目标域样本，如果被错误分类，根据目标域样本的分类错误率进行调整，增加其权重，使得下次训练时更关注这些被错分的目标域样本。对于源域样本，当其被误分类后，TrAdaBoost算法则认为其与目标数据不同分布的，因此会降低其权重。"
   ]
  },
  {
   "cell_type": "markdown",
   "metadata": {},
   "source": [
    "# 一、建模场景"
   ]
  },
  {
   "cell_type": "markdown",
   "metadata": {},
   "source": [
    "## 1.1 业务场景"
   ]
  },
  {
   "cell_type": "markdown",
   "metadata": {},
   "source": [
    "某金融公司在新场景下展开小额现金贷产品，积累了少量有标签样本，样本量不足以用于建模。考虑到虽然场景不同，但借款用户的本质上比较相似，所以对原有大额产品的存量客户进行迁移。首先制作4个在旧业务上表现较好的特征，同时要保证原有场景的存量客户与目标场景都有此特征，且特征含义一致。"
   ]
  },
  {
   "cell_type": "markdown",
   "metadata": {},
   "source": [
    "## 1.2 建模方法"
   ]
  },
  {
   "cell_type": "markdown",
   "metadata": {},
   "source": [
    "将知识从原有场景的样本（源域）迁移至只有少量样本的新场景客群（目标域）。\n",
    "在此，TrAdaBoost算法采用逻辑回归作为基模型，并使用单模型进行最终的预判，使得最终的模型可以保留线性模型的解释性，以适应于更多实际业务"
   ]
  },
  {
   "cell_type": "markdown",
   "metadata": {},
   "source": [
    "# 二、导入数据"
   ]
  },
  {
   "cell_type": "code",
   "execution_count": 2,
   "metadata": {},
   "outputs": [],
   "source": [
    "import pandas as pd\n",
    "import numpy as np\n",
    "from sklearn.metrics import roc_auc_score,roc_curve,auc  \n",
    "from sklearn.model_selection import train_test_split  \n",
    "from sklearn import metrics  \n",
    "from sklearn.linear_model import LogisticRegression  \n",
    "from sklearn.svm import LinearSVC  \n",
    "import random\n",
    "import math\n",
    "from sklearn.calibration import CalibratedClassifierCV\n",
    "\n",
    "# 忽略warnings\n",
    "import warnings\n",
    "warnings.filterwarnings('ignore')\n",
    "warnings.simplefilter('ignore')"
   ]
  },
  {
   "cell_type": "code",
   "execution_count": 3,
   "metadata": {},
   "outputs": [],
   "source": [
    "data = pd.read_csv('./tra_sample.csv') "
   ]
  },
  {
   "cell_type": "code",
   "execution_count": 4,
   "metadata": {},
   "outputs": [
    {
     "data": {
      "text/html": [
       "<div>\n",
       "<style scoped>\n",
       "    .dataframe tbody tr th:only-of-type {\n",
       "        vertical-align: middle;\n",
       "    }\n",
       "\n",
       "    .dataframe tbody tr th {\n",
       "        vertical-align: top;\n",
       "    }\n",
       "\n",
       "    .dataframe thead th {\n",
       "        text-align: right;\n",
       "    }\n",
       "</style>\n",
       "<table border=\"1\" class=\"dataframe\">\n",
       "  <thead>\n",
       "    <tr style=\"text-align: right;\">\n",
       "      <th></th>\n",
       "      <th>zx_score</th>\n",
       "      <th>msg_cnt</th>\n",
       "      <th>phone_num_cnt</th>\n",
       "      <th>register_days</th>\n",
       "      <th>bad_ind</th>\n",
       "      <th>type</th>\n",
       "    </tr>\n",
       "  </thead>\n",
       "  <tbody>\n",
       "    <tr>\n",
       "      <th>0</th>\n",
       "      <td>-0.322581</td>\n",
       "      <td>0.023810</td>\n",
       "      <td>0.00</td>\n",
       "      <td>0.217949</td>\n",
       "      <td>0</td>\n",
       "      <td>target</td>\n",
       "    </tr>\n",
       "    <tr>\n",
       "      <th>1</th>\n",
       "      <td>0.078853</td>\n",
       "      <td>0.023810</td>\n",
       "      <td>0.02</td>\n",
       "      <td>0.461538</td>\n",
       "      <td>0</td>\n",
       "      <td>target</td>\n",
       "    </tr>\n",
       "    <tr>\n",
       "      <th>2</th>\n",
       "      <td>0.078853</td>\n",
       "      <td>0.071429</td>\n",
       "      <td>0.00</td>\n",
       "      <td>0.217949</td>\n",
       "      <td>0</td>\n",
       "      <td>target</td>\n",
       "    </tr>\n",
       "    <tr>\n",
       "      <th>3</th>\n",
       "      <td>-0.128677</td>\n",
       "      <td>0.023810</td>\n",
       "      <td>0.00</td>\n",
       "      <td>0.217949</td>\n",
       "      <td>0</td>\n",
       "      <td>target</td>\n",
       "    </tr>\n",
       "    <tr>\n",
       "      <th>4</th>\n",
       "      <td>-0.261014</td>\n",
       "      <td>0.071429</td>\n",
       "      <td>0.05</td>\n",
       "      <td>0.217949</td>\n",
       "      <td>0</td>\n",
       "      <td>target</td>\n",
       "    </tr>\n",
       "  </tbody>\n",
       "</table>\n",
       "</div>"
      ],
      "text/plain": [
       "   zx_score   msg_cnt  phone_num_cnt  register_days  bad_ind    type\n",
       "0 -0.322581  0.023810           0.00       0.217949        0  target\n",
       "1  0.078853  0.023810           0.02       0.461538        0  target\n",
       "2  0.078853  0.071429           0.00       0.217949        0  target\n",
       "3 -0.128677  0.023810           0.00       0.217949        0  target\n",
       "4 -0.261014  0.071429           0.05       0.217949        0  target"
      ]
     },
     "execution_count": 4,
     "metadata": {},
     "output_type": "execute_result"
    }
   ],
   "source": [
    "data.head()"
   ]
  },
  {
   "cell_type": "code",
   "execution_count": 4,
   "metadata": {},
   "outputs": [
    {
     "data": {
      "text/plain": [
       "array(['target', 'origin', 'offtime'], dtype=object)"
      ]
     },
     "execution_count": 4,
     "metadata": {},
     "output_type": "execute_result"
    }
   ],
   "source": [
    "data['type'].unique()"
   ]
  },
  {
   "cell_type": "markdown",
   "metadata": {},
   "source": [
    "- 特征：'zx_score', 'msg_cnt', 'phone_num_cnt', 'register_days'\n",
    "- 标签：'bad_ind'\n",
    "- 分类：标识具体每一条样本属于'target'目标域， 'origin'源域， 'offtime'时间外样本集"
   ]
  },
  {
   "cell_type": "code",
   "execution_count": 5,
   "metadata": {},
   "outputs": [],
   "source": [
    "feature_lst = ['zx_score', 'msg_cnt', 'phone_num_cnt', 'register_days']"
   ]
  },
  {
   "cell_type": "markdown",
   "metadata": {},
   "source": [
    "# 三、数据处理"
   ]
  },
  {
   "cell_type": "markdown",
   "metadata": {},
   "source": [
    "## 3.1 划分目标域、源域、时间外样本集"
   ]
  },
  {
   "cell_type": "code",
   "execution_count": 6,
   "metadata": {},
   "outputs": [],
   "source": [
    "train = data[data.type == 'target'].reset_index().copy()\n",
    "diff = data[data.type == 'origin'].reset_index().copy()\n",
    "val = data[data.type == 'offtime'].reset_index().copy() "
   ]
  },
  {
   "cell_type": "code",
   "execution_count": 7,
   "metadata": {},
   "outputs": [],
   "source": [
    "train = train.loc[:1200]"
   ]
  },
  {
   "cell_type": "code",
   "execution_count": 8,
   "metadata": {},
   "outputs": [],
   "source": [
    "trans_s = train[feature_lst].copy() # 目标域样本\n",
    "label_s = train['bad_ind'].copy() # 目标域标签\n",
    "\n",
    "trans_a = diff[feature_lst].copy() # 源域样本\n",
    "label_a = diff['bad_ind'].copy() # 源域标签"
   ]
  },
  {
   "cell_type": "code",
   "execution_count": 9,
   "metadata": {},
   "outputs": [],
   "source": [
    "val_x = val[feature_lst].copy()\n",
    "val_y = val['bad_ind'].copy()"
   ]
  },
  {
   "cell_type": "code",
   "execution_count": 10,
   "metadata": {},
   "outputs": [],
   "source": [
    "test = val_x.copy()"
   ]
  },
  {
   "cell_type": "markdown",
   "metadata": {},
   "source": [
    "## 3.2 通过LR对目标域少量样本进行拟合"
   ]
  },
  {
   "cell_type": "code",
   "execution_count": 11,
   "metadata": {},
   "outputs": [
    {
     "data": {
      "text/plain": [
       "LogisticRegression(C=0.1, class_weight='balanced', dual=False,\n",
       "                   fit_intercept=True, intercept_scaling=1, l1_ratio=None,\n",
       "                   max_iter=100, multi_class='warn', n_jobs=None, penalty='l2',\n",
       "                   random_state=None, solver='liblinear', tol=0.0001, verbose=0,\n",
       "                   warm_start=False)"
      ]
     },
     "execution_count": 11,
     "metadata": {},
     "output_type": "execute_result"
    }
   ],
   "source": [
    "lr_model = LogisticRegression(C=0.1,class_weight = 'balanced',solver = 'liblinear')\n",
    "lr_model.fit(trans_s,label_s)"
   ]
  },
  {
   "cell_type": "code",
   "execution_count": 12,
   "metadata": {},
   "outputs": [],
   "source": [
    "y_pred = lr_model.predict_proba(trans_s)[:,1]"
   ]
  },
  {
   "cell_type": "code",
   "execution_count": 13,
   "metadata": {},
   "outputs": [],
   "source": [
    "fpr_lr_train,tpr_lr_train,_ = roc_curve(label_s,y_pred)"
   ]
  },
  {
   "cell_type": "code",
   "execution_count": 14,
   "metadata": {},
   "outputs": [
    {
     "name": "stdout",
     "output_type": "stream",
     "text": [
      "train_ks : 0.48500238435860754\n"
     ]
    }
   ],
   "source": [
    "train_ks = abs(fpr_lr_train - tpr_lr_train).max()\n",
    "print('train_ks :',train_ks)"
   ]
  },
  {
   "cell_type": "code",
   "execution_count": 15,
   "metadata": {},
   "outputs": [],
   "source": [
    "y_pred = lr_model.predict_proba(test)[:,1] "
   ]
  },
  {
   "cell_type": "code",
   "execution_count": 16,
   "metadata": {},
   "outputs": [
    {
     "name": "stdout",
     "output_type": "stream",
     "text": [
      "val_ks : 0.3887057754389137\n"
     ]
    }
   ],
   "source": [
    "fpr_lr,tpr_lr,_ = roc_curve(val_y,y_pred)\n",
    "val_ks = abs(fpr_lr - tpr_lr).max()\n",
    "print('val_ks :',val_ks)"
   ]
  },
  {
   "cell_type": "markdown",
   "metadata": {},
   "source": [
    "训练集和时间外样本集KS相差超过10%（行业要求5%）"
   ]
  },
  {
   "cell_type": "markdown",
   "metadata": {},
   "source": [
    "单独模型的模型表现"
   ]
  },
  {
   "cell_type": "code",
   "execution_count": 19,
   "metadata": {},
   "outputs": [
    {
     "data": {
      "image/png": "[encoded data removed]",
      "text/plain": [
       "<Figure size 432x288 with 1 Axes>"
      ]
     },
     "metadata": {
      "needs_background": "light"
     },
     "output_type": "display_data"
    }
   ],
   "source": [
    "from matplotlib import pyplot as plt\n",
    "plt.plot(fpr_lr_train,tpr_lr_train,label = 'train LR')\n",
    "plt.plot(fpr_lr,tpr_lr,label = 'evl LR')\n",
    "plt.plot([0,1],[0,1],'k--')\n",
    "plt.xlabel('False positive rate')  \n",
    "plt.ylabel('True positive rate')\n",
    "plt.title('ROC Curve')\n",
    "plt.legend(loc = 'best')\n",
    "plt.show()"
   ]
  },
  {
   "cell_type": "markdown",
   "metadata": {},
   "source": [
    "ROC曲线非常不稳定，模型泛化能力较差"
   ]
  },
  {
   "cell_type": "markdown",
   "metadata": {},
   "source": [
    "## 3.3 整合源域数据和目标域数据，用LR进行拟合"
   ]
  },
  {
   "cell_type": "code",
   "execution_count": 17,
   "metadata": {},
   "outputs": [],
   "source": [
    "trans_data = np.concatenate((trans_a,trans_s), axis=0)\n",
    "trans_label = np.concatenate((label_a,label_s), axis=0)"
   ]
  },
  {
   "cell_type": "code",
   "execution_count": 18,
   "metadata": {},
   "outputs": [
    {
     "data": {
      "text/plain": [
       "LogisticRegression(C=0.3, class_weight='balanced', dual=False,\n",
       "                   fit_intercept=True, intercept_scaling=1, l1_ratio=None,\n",
       "                   max_iter=100, multi_class='warn', n_jobs=None, penalty='l2',\n",
       "                   random_state=None, solver='liblinear', tol=0.0001, verbose=0,\n",
       "                   warm_start=False)"
      ]
     },
     "execution_count": 18,
     "metadata": {},
     "output_type": "execute_result"
    }
   ],
   "source": [
    "lr_model = LogisticRegression(C=0.3,class_weight = 'balanced',solver = 'liblinear')\n",
    "lr_model.fit(trans_a,label_a)"
   ]
  },
  {
   "cell_type": "code",
   "execution_count": 19,
   "metadata": {},
   "outputs": [
    {
     "name": "stdout",
     "output_type": "stream",
     "text": [
      "train_ks : 0.4910909493184976\n"
     ]
    }
   ],
   "source": [
    "y_pred = lr_model.predict_proba(trans_data)[:,1]\n",
    "fpr_lr_train,tpr_lr_train,_ = roc_curve(trans_label,y_pred)\n",
    "train_ks = abs(fpr_lr_train - tpr_lr_train).max()\n",
    "print('train_ks :',train_ks)"
   ]
  },
  {
   "cell_type": "code",
   "execution_count": 20,
   "metadata": {},
   "outputs": [
    {
     "name": "stdout",
     "output_type": "stream",
     "text": [
      "val_ks : 0.33077621830414\n"
     ]
    }
   ],
   "source": [
    "y_pred = lr_model.predict_proba(test)[:,1]\n",
    "fpr_lr,tpr_lr,_ = roc_curve(val_y,y_pred)\n",
    "val_ks = abs(fpr_lr - tpr_lr).max()\n",
    "print('val_ks :',val_ks)"
   ]
  },
  {
   "cell_type": "markdown",
   "metadata": {},
   "source": [
    "整体建模的模型表现"
   ]
  },
  {
   "cell_type": "code",
   "execution_count": 24,
   "metadata": {},
   "outputs": [
    {
     "data": {
      "image/png": "[encoded data removed]",
      "text/plain": [
       "<Figure size 432x288 with 1 Axes>"
      ]
     },
     "metadata": {
      "needs_background": "light"
     },
     "output_type": "display_data"
    }
   ],
   "source": [
    "from matplotlib import pyplot as plt\n",
    "plt.plot(fpr_lr_train,tpr_lr_train,label = 'train LR')\n",
    "plt.plot(fpr_lr,tpr_lr,label = 'evl LR')\n",
    "plt.plot([0,1],[0,1],'k--')\n",
    "plt.xlabel('False positive rate')  \n",
    "plt.ylabel('True positive rate')\n",
    "plt.title('ROC Curve')\n",
    "plt.legend(loc = 'best')\n",
    "plt.show()"
   ]
  },
  {
   "cell_type": "markdown",
   "metadata": {},
   "source": [
    "时间外样本集ROC曲线曲率较低，且训练集ROC曲线波动剧烈，说明模型的区分能力和泛化能力都差。"
   ]
  },
  {
   "cell_type": "markdown",
   "metadata": {},
   "source": [
    "# 四、模型训练"
   ]
  },
  {
   "cell_type": "markdown",
   "metadata": {},
   "source": [
    "构造新的TrAdaBoost算法，对数据集进行训练，得到最优模型"
   ]
  },
  {
   "cell_type": "code",
   "execution_count": 21,
   "metadata": {},
   "outputs": [],
   "source": [
    "import numpy as np\n",
    "import pandas as pd\n",
    "from sklearn.linear_model import LogisticRegression\n",
    "from sklearn.metrics import roc_curve"
   ]
  },
  {
   "cell_type": "code",
   "execution_count": 22,
   "metadata": {},
   "outputs": [],
   "source": [
    "def Tr_lr_boost(trans_a,trans_s,label_a,label_s,test,label_test,\n",
    "                N=500,\n",
    "                early_stopping_rounds =100):\n",
    "    \n",
    "    # 计算weight\n",
    "    def calculate_P(weights,label):\n",
    "        total = np.sum(weights)\n",
    "        return np.asarray(weights / total, order='C')\n",
    "    \n",
    "    # 用逻辑回归作为基分类器，输出概率\n",
    "    def train_classify(trans_data, trans_label, test_data, P):\n",
    "        clf = LogisticRegression(C=0.3,class_weight = 'balanced',solver='liblinear')\n",
    "        clf.fit(trans_data, trans_label, sample_weight=P[:,0])\n",
    "        return clf.predict_proba(test_data)[:,1],clf\n",
    "    \n",
    "    # 计算目标域上的错误率\n",
    "    def calculate_error_rate(label_R, label_H, weight):\n",
    "        total = np.sum(weight)\n",
    "        return np.sum(weight[:,0] / total * np.abs(label_R - label_H))\n",
    "    \n",
    "    # 根据逻辑回归的score得到标签（不能用predict直接输出标签）\n",
    "    def put_label(score_H,thred):\n",
    "        new_label_H = []\n",
    "        for i in score_H:\n",
    "            if i <= thred:\n",
    "                new_label_H.append(0)\n",
    "            else:\n",
    "                new_label_H.append(1)\n",
    "        return new_label_H\n",
    "    \n",
    "    # 指定迭代次数，相当于集成模型中基模型的数量\n",
    "    \n",
    "\n",
    "    # 拼接数据集\n",
    "    trans_data = np.concatenate((trans_a,trans_s), axis=0)\n",
    "    trans_label = np.concatenate((label_a,label_s), axis=0)\n",
    "    \n",
    "    # 三个数据集样本数\n",
    "    row_A = trans_a.shape[0]\n",
    "    row_S = trans_s.shape[0]\n",
    "    row_T = test.shape[0]\n",
    "    \n",
    "    # 三个数据集合并为打分数据集\n",
    "    test_data = np.concatenate((trans_data, test), axis=0)\n",
    "    \n",
    "    # 初始化权重 \n",
    "    weights_A = np.ones([row_A, 1])/row_A\n",
    "    weights_S = np.ones([row_S, 1])/row_S*2\n",
    "    weights = np.concatenate((weights_A, weights_S), axis=0)\n",
    "    \n",
    "    # 按照公式初始化beta值\n",
    "    beta = 1 / (1 + np.sqrt(2 * np.log(row_A / 500)))\n",
    "    \n",
    "    beta_T = np.zeros([1,500])\n",
    "    \n",
    "    # 存储每次迭代的标签\n",
    "    result_label = np.ones([row_A + row_S + row_T, 500])\n",
    "    \n",
    "    '''\n",
    "    500 =N 迭代次数\n",
    "    '''\n",
    "\n",
    "    trans_data = np.asarray(trans_data, order='C')\n",
    "    trans_label = np.asarray(trans_label, order='C')\n",
    "    test_data = np.asarray(test_data, order='C')\n",
    "    \n",
    "    # 最优ks值\n",
    "    best_ks = -1\n",
    "    # 最优基模型数量\n",
    "    best_round = -1\n",
    "    # 最优模型\n",
    "    best_model = -1\n",
    "    \n",
    "    '''\n",
    "    初始化结束    \n",
    "    正式开始训练\n",
    "    '''\n",
    "\n",
    "    N = 500\n",
    "    for i in range(N):\n",
    "        P = calculate_P(weights, trans_label)\n",
    "        result_label[:,i],model = train_classify(trans_data, trans_label,\n",
    "                                                test_data, P)\n",
    "        score_H = result_label[row_A:row_A + row_S, i]\n",
    "        pctg = np.sum(trans_label)/len(trans_label)\n",
    "        thred = pd.DataFrame(score_H).quantile(1-pctg)[0]\n",
    "        label_H = put_label(score_H,thred)\n",
    "        \n",
    "        # 计算在目标域上的错误率\n",
    "        error_rate = calculate_error_rate(label_s, label_H,\n",
    "                                         weights[row_A:row_A + row_S, :])\n",
    "        # 防止过拟合\n",
    "        if error_rate > 0.5:\n",
    "            error_rate = 0.5\n",
    "        if error_rate == 0:\n",
    "            N = i\n",
    "            break\n",
    "        # 存每一次迭代的beta值 = error_rate / (1 - error_rate)\n",
    "        beta_T[0,i] = error_rate / (1 - error_rate)\n",
    "        \n",
    "        # 调整目标域样本权重\n",
    "        for j in range(row_S):\n",
    "            weights[row_A + j] = weights[row_A + j] * np.power(beta_T[0,i],\n",
    "                                (-np.abs(result_label[row_A + j, i] - label_s[j])))\n",
    "        # 调整源域样本权重\n",
    "        for j in range(row_A):\n",
    "            weights[j] = weights[j] * np.power(beta,\n",
    "                                              np.abs(result_label[j, i] - label_a[j]))\n",
    "        y_pred = result_label[(row_A + row_S):,i]\n",
    "        fpr_lr_train,tpr_lr_train,_ = roc_curve(label_test,y_pred)\n",
    "        train_ks = abs(fpr_lr_train - tpr_lr_train).max()\n",
    "        train_ks\n",
    "        #print('train_ks :', train_ks)\n",
    "            \n",
    "        # 不再使用后一半学习器投票，而是只保留效果最好的逻辑回归模型  \n",
    "        if train_ks > best_ks:\n",
    "            best_ks = train_ks\n",
    "            best_round = i\n",
    "            best_model = model\n",
    "        # 当超过eadrly_stopping_rounds轮KS不再提升后，停止训练\n",
    "        if best_round < i - early_stopping_rounds:\n",
    "            break\n",
    "    return best_ks,best_round,best_model    "
   ]
  },
  {
   "cell_type": "code",
   "execution_count": 23,
   "metadata": {
    "scrolled": true
   },
   "outputs": [],
   "source": [
    "# 训练并得到最优模型\n",
    "best_ks,best_round,best_model = Tr_lr_boost(trans_a,trans_s,label_a,label_s,\n",
    "                                            test,label_test=val_y,N=300,\n",
    "                                            early_stopping_rounds=20) "
   ]
  },
  {
   "cell_type": "markdown",
   "metadata": {},
   "source": [
    "# 五、模型评价"
   ]
  },
  {
   "cell_type": "markdown",
   "metadata": {},
   "source": [
    "使用最优的逻辑回归模型对样本进行测试"
   ]
  },
  {
   "cell_type": "code",
   "execution_count": 24,
   "metadata": {
    "scrolled": true
   },
   "outputs": [
    {
     "data": {
      "text/plain": [
       "0.4629947544110634"
      ]
     },
     "execution_count": 24,
     "metadata": {},
     "output_type": "execute_result"
    }
   ],
   "source": [
    "y_pred = best_model.predict_proba(trans_s)[:,1]\n",
    "fpr_lr_train,tpr_lr_train,_ = roc_curve(label_s,y_pred)\n",
    "train_ks = abs(fpr_lr_train - tpr_lr_train).max()\n",
    "train_ks = train_ks.max()\n",
    "train_ks\n",
    "#print('train_ks :', train_ks)"
   ]
  },
  {
   "cell_type": "code",
   "execution_count": 26,
   "metadata": {},
   "outputs": [
    {
     "name": "stdout",
     "output_type": "stream",
     "text": [
      "val_ks :  0.39846160021324123\n"
     ]
    }
   ],
   "source": [
    "y_pred = best_model.predict_proba(test)[:,1]  \n",
    "fpr_lr,tpr_lr,_ = roc_curve(val_y,y_pred)  \n",
    "val_ks = abs(fpr_lr - tpr_lr).max()  \n",
    "print('val_ks : ',val_ks)  "
   ]
  },
  {
   "cell_type": "code",
   "execution_count": 24,
   "metadata": {},
   "outputs": [
    {
     "data": {
      "image/png": "[encoded data removed]",
      "text/plain": [
       "<Figure size 432x288 with 1 Axes>"
      ]
     },
     "metadata": {
      "needs_background": "light"
     },
     "output_type": "display_data"
    }
   ],
   "source": [
    "from matplotlib import pyplot as plt  \n",
    "plt.plot(fpr_lr_train,tpr_lr_train,label = 'train LR')  \n",
    "plt.plot(fpr_lr,tpr_lr,label = 'evl LR')  \n",
    "plt.plot([0,1],[0,1],'k--')  \n",
    "plt.xlabel('False positive rate')  \n",
    "plt.ylabel('True positive rate')  \n",
    "plt.title('ROC Curve')  \n",
    "plt.legend(loc = 'best')  \n",
    "plt.show() "
   ]
  }
 ],
 "metadata": {
  "kernelspec": {
   "display_name": "Python 3",
   "language": "python",
   "name": "python3"
  },
  "language_info": {
   "codemirror_mode": {
    "name": "ipython",
    "version": 3
   },
   "file_extension": ".py",
   "mimetype": "text/x-python",
   "name": "python",
   "nbconvert_exporter": "python",
   "pygments_lexer": "ipython3",
   "version": "3.7.3"
  }
 },
 "nbformat": 4,
 "nbformat_minor": 4
}
